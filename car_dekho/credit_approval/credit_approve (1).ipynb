{
 "cells": [
  {
   "cell_type": "code",
   "execution_count": 1,
   "metadata": {},
   "outputs": [],
   "source": [
    "import numpy as np\n",
    "import pandas as pd\n",
    "import sklearn\n",
    "import matplotlib.pyplot as plt\n",
    "import seaborn as sns\n",
    "\n",
    "%matplotlib inline\n",
    "\n",
    "from sklearn.model_selection import train_test_split\n",
    "from sklearn.linear_model import LogisticRegression\n",
    "from sklearn.svm import SVC, LinearSVC\n",
    "from sklearn.ensemble import RandomForestClassifier\n",
    "from sklearn.neighbors import KNeighborsClassifier\n",
    "from sklearn.naive_bayes import GaussianNB\n",
    "from sklearn.linear_model import Perceptron\n",
    "from sklearn.linear_model import SGDClassifier\n",
    "from sklearn.tree import DecisionTreeClassifier\n",
    "from sklearn.metrics import accuracy_score"
   ]
  },
  {
   "cell_type": "code",
   "execution_count": 5,
   "metadata": {},
   "outputs": [],
   "source": [
    "train = pd.read_csv('crx.csv',header=None,names=['Gender','Age','Debt','Married','BankCustomer','EducationLevel','Ethnicity','YearsEmployed','PriorDefault','Employed','CreditScore','DriversLicense','Citizen','ZipCode','Income','Approved'])"
   ]
  },
  {
   "cell_type": "code",
   "execution_count": 6,
   "metadata": {},
   "outputs": [
    {
     "data": {
      "text/html": [
       "<div>\n",
       "<style scoped>\n",
       "    .dataframe tbody tr th:only-of-type {\n",
       "        vertical-align: middle;\n",
       "    }\n",
       "\n",
       "    .dataframe tbody tr th {\n",
       "        vertical-align: top;\n",
       "    }\n",
       "\n",
       "    .dataframe thead th {\n",
       "        text-align: right;\n",
       "    }\n",
       "</style>\n",
       "<table border=\"1\" class=\"dataframe\">\n",
       "  <thead>\n",
       "    <tr style=\"text-align: right;\">\n",
       "      <th></th>\n",
       "      <th>Gender</th>\n",
       "      <th>Age</th>\n",
       "      <th>Debt</th>\n",
       "      <th>Married</th>\n",
       "      <th>BankCustomer</th>\n",
       "      <th>EducationLevel</th>\n",
       "      <th>Ethnicity</th>\n",
       "      <th>YearsEmployed</th>\n",
       "      <th>PriorDefault</th>\n",
       "      <th>Employed</th>\n",
       "      <th>CreditScore</th>\n",
       "      <th>DriversLicense</th>\n",
       "      <th>Citizen</th>\n",
       "      <th>ZipCode</th>\n",
       "      <th>Income</th>\n",
       "      <th>Approved</th>\n",
       "    </tr>\n",
       "  </thead>\n",
       "  <tbody>\n",
       "    <tr>\n",
       "      <th>0</th>\n",
       "      <td>b</td>\n",
       "      <td>30.83</td>\n",
       "      <td>0.000</td>\n",
       "      <td>u</td>\n",
       "      <td>g</td>\n",
       "      <td>w</td>\n",
       "      <td>v</td>\n",
       "      <td>1.25</td>\n",
       "      <td>t</td>\n",
       "      <td>t</td>\n",
       "      <td>1</td>\n",
       "      <td>f</td>\n",
       "      <td>g</td>\n",
       "      <td>00202</td>\n",
       "      <td>0</td>\n",
       "      <td>+</td>\n",
       "    </tr>\n",
       "    <tr>\n",
       "      <th>1</th>\n",
       "      <td>a</td>\n",
       "      <td>58.67</td>\n",
       "      <td>4.460</td>\n",
       "      <td>u</td>\n",
       "      <td>g</td>\n",
       "      <td>q</td>\n",
       "      <td>h</td>\n",
       "      <td>3.04</td>\n",
       "      <td>t</td>\n",
       "      <td>t</td>\n",
       "      <td>6</td>\n",
       "      <td>f</td>\n",
       "      <td>g</td>\n",
       "      <td>00043</td>\n",
       "      <td>560</td>\n",
       "      <td>+</td>\n",
       "    </tr>\n",
       "    <tr>\n",
       "      <th>2</th>\n",
       "      <td>a</td>\n",
       "      <td>24.50</td>\n",
       "      <td>0.500</td>\n",
       "      <td>u</td>\n",
       "      <td>g</td>\n",
       "      <td>q</td>\n",
       "      <td>h</td>\n",
       "      <td>1.50</td>\n",
       "      <td>t</td>\n",
       "      <td>f</td>\n",
       "      <td>0</td>\n",
       "      <td>f</td>\n",
       "      <td>g</td>\n",
       "      <td>00280</td>\n",
       "      <td>824</td>\n",
       "      <td>+</td>\n",
       "    </tr>\n",
       "    <tr>\n",
       "      <th>3</th>\n",
       "      <td>b</td>\n",
       "      <td>27.83</td>\n",
       "      <td>1.540</td>\n",
       "      <td>u</td>\n",
       "      <td>g</td>\n",
       "      <td>w</td>\n",
       "      <td>v</td>\n",
       "      <td>3.75</td>\n",
       "      <td>t</td>\n",
       "      <td>t</td>\n",
       "      <td>5</td>\n",
       "      <td>t</td>\n",
       "      <td>g</td>\n",
       "      <td>00100</td>\n",
       "      <td>3</td>\n",
       "      <td>+</td>\n",
       "    </tr>\n",
       "    <tr>\n",
       "      <th>4</th>\n",
       "      <td>b</td>\n",
       "      <td>20.17</td>\n",
       "      <td>5.625</td>\n",
       "      <td>u</td>\n",
       "      <td>g</td>\n",
       "      <td>w</td>\n",
       "      <td>v</td>\n",
       "      <td>1.71</td>\n",
       "      <td>t</td>\n",
       "      <td>f</td>\n",
       "      <td>0</td>\n",
       "      <td>f</td>\n",
       "      <td>s</td>\n",
       "      <td>00120</td>\n",
       "      <td>0</td>\n",
       "      <td>+</td>\n",
       "    </tr>\n",
       "  </tbody>\n",
       "</table>\n",
       "</div>"
      ],
      "text/plain": [
       "  Gender    Age   Debt Married BankCustomer EducationLevel Ethnicity  \\\n",
       "0      b  30.83  0.000       u            g              w         v   \n",
       "1      a  58.67  4.460       u            g              q         h   \n",
       "2      a  24.50  0.500       u            g              q         h   \n",
       "3      b  27.83  1.540       u            g              w         v   \n",
       "4      b  20.17  5.625       u            g              w         v   \n",
       "\n",
       "   YearsEmployed PriorDefault Employed  CreditScore DriversLicense Citizen  \\\n",
       "0           1.25            t        t            1              f       g   \n",
       "1           3.04            t        t            6              f       g   \n",
       "2           1.50            t        f            0              f       g   \n",
       "3           3.75            t        t            5              t       g   \n",
       "4           1.71            t        f            0              f       s   \n",
       "\n",
       "  ZipCode  Income Approved  \n",
       "0   00202       0        +  \n",
       "1   00043     560        +  \n",
       "2   00280     824        +  \n",
       "3   00100       3        +  \n",
       "4   00120       0        +  "
      ]
     },
     "execution_count": 6,
     "metadata": {},
     "output_type": "execute_result"
    }
   ],
   "source": [
    "train.head()"
   ]
  },
  {
   "cell_type": "code",
   "execution_count": 8,
   "metadata": {},
   "outputs": [
    {
     "data": {
      "text/html": [
       "<div>\n",
       "<style scoped>\n",
       "    .dataframe tbody tr th:only-of-type {\n",
       "        vertical-align: middle;\n",
       "    }\n",
       "\n",
       "    .dataframe tbody tr th {\n",
       "        vertical-align: top;\n",
       "    }\n",
       "\n",
       "    .dataframe thead th {\n",
       "        text-align: right;\n",
       "    }\n",
       "</style>\n",
       "<table border=\"1\" class=\"dataframe\">\n",
       "  <thead>\n",
       "    <tr style=\"text-align: right;\">\n",
       "      <th></th>\n",
       "      <th>Debt</th>\n",
       "      <th>YearsEmployed</th>\n",
       "      <th>CreditScore</th>\n",
       "      <th>Income</th>\n",
       "    </tr>\n",
       "  </thead>\n",
       "  <tbody>\n",
       "    <tr>\n",
       "      <th>count</th>\n",
       "      <td>690.000000</td>\n",
       "      <td>690.000000</td>\n",
       "      <td>690.00000</td>\n",
       "      <td>690.000000</td>\n",
       "    </tr>\n",
       "    <tr>\n",
       "      <th>mean</th>\n",
       "      <td>4.758725</td>\n",
       "      <td>2.223406</td>\n",
       "      <td>2.40000</td>\n",
       "      <td>1017.385507</td>\n",
       "    </tr>\n",
       "    <tr>\n",
       "      <th>std</th>\n",
       "      <td>4.978163</td>\n",
       "      <td>3.346513</td>\n",
       "      <td>4.86294</td>\n",
       "      <td>5210.102598</td>\n",
       "    </tr>\n",
       "    <tr>\n",
       "      <th>min</th>\n",
       "      <td>0.000000</td>\n",
       "      <td>0.000000</td>\n",
       "      <td>0.00000</td>\n",
       "      <td>0.000000</td>\n",
       "    </tr>\n",
       "    <tr>\n",
       "      <th>25%</th>\n",
       "      <td>1.000000</td>\n",
       "      <td>0.165000</td>\n",
       "      <td>0.00000</td>\n",
       "      <td>0.000000</td>\n",
       "    </tr>\n",
       "    <tr>\n",
       "      <th>50%</th>\n",
       "      <td>2.750000</td>\n",
       "      <td>1.000000</td>\n",
       "      <td>0.00000</td>\n",
       "      <td>5.000000</td>\n",
       "    </tr>\n",
       "    <tr>\n",
       "      <th>75%</th>\n",
       "      <td>7.207500</td>\n",
       "      <td>2.625000</td>\n",
       "      <td>3.00000</td>\n",
       "      <td>395.500000</td>\n",
       "    </tr>\n",
       "    <tr>\n",
       "      <th>max</th>\n",
       "      <td>28.000000</td>\n",
       "      <td>28.500000</td>\n",
       "      <td>67.00000</td>\n",
       "      <td>100000.000000</td>\n",
       "    </tr>\n",
       "  </tbody>\n",
       "</table>\n",
       "</div>"
      ],
      "text/plain": [
       "             Debt  YearsEmployed  CreditScore         Income\n",
       "count  690.000000     690.000000    690.00000     690.000000\n",
       "mean     4.758725       2.223406      2.40000    1017.385507\n",
       "std      4.978163       3.346513      4.86294    5210.102598\n",
       "min      0.000000       0.000000      0.00000       0.000000\n",
       "25%      1.000000       0.165000      0.00000       0.000000\n",
       "50%      2.750000       1.000000      0.00000       5.000000\n",
       "75%      7.207500       2.625000      3.00000     395.500000\n",
       "max     28.000000      28.500000     67.00000  100000.000000"
      ]
     },
     "execution_count": 8,
     "metadata": {},
     "output_type": "execute_result"
    }
   ],
   "source": [
    "train.describe()\n"
   ]
  },
  {
   "cell_type": "code",
   "execution_count": 10,
   "metadata": {},
   "outputs": [
    {
     "name": "stdout",
     "output_type": "stream",
     "text": [
      "<class 'pandas.core.frame.DataFrame'>\n",
      "RangeIndex: 690 entries, 0 to 689\n",
      "Data columns (total 16 columns):\n",
      "Gender            690 non-null object\n",
      "Age               690 non-null object\n",
      "Debt              690 non-null float64\n",
      "Married           690 non-null object\n",
      "BankCustomer      690 non-null object\n",
      "EducationLevel    690 non-null object\n",
      "Ethnicity         690 non-null object\n",
      "YearsEmployed     690 non-null float64\n",
      "PriorDefault      690 non-null object\n",
      "Employed          690 non-null object\n",
      "CreditScore       690 non-null int64\n",
      "DriversLicense    690 non-null object\n",
      "Citizen           690 non-null object\n",
      "ZipCode           690 non-null object\n",
      "Income            690 non-null int64\n",
      "Approved          690 non-null object\n",
      "dtypes: float64(2), int64(2), object(12)\n",
      "memory usage: 86.3+ KB\n"
     ]
    }
   ],
   "source": [
    "train.info()\n"
   ]
  },
  {
   "cell_type": "code",
   "execution_count": 11,
   "metadata": {},
   "outputs": [
    {
     "name": "stdout",
     "output_type": "stream",
     "text": [
      "    Gender    Age    Debt Married BankCustomer EducationLevel Ethnicity  \\\n",
      "673      ?  29.50   2.000       y            p              e         h   \n",
      "674      a  37.33   2.500       u            g              i         h   \n",
      "675      a  41.58   1.040       u            g             aa         v   \n",
      "676      a  30.58  10.665       u            g              q         h   \n",
      "677      b  19.42   7.250       u            g              m         v   \n",
      "678      a  17.92  10.210       u            g             ff        ff   \n",
      "679      a  20.08   1.250       u            g              c         v   \n",
      "680      b  19.50   0.290       u            g              k         v   \n",
      "681      b  27.83   1.000       y            p              d         h   \n",
      "682      b  17.08   3.290       u            g              i         v   \n",
      "683      b  36.42   0.750       y            p              d         v   \n",
      "684      b  40.58   3.290       u            g              m         v   \n",
      "685      b  21.08  10.085       y            p              e         h   \n",
      "686      a  22.67   0.750       u            g              c         v   \n",
      "687      a  25.25  13.500       y            p             ff        ff   \n",
      "688      b  17.92   0.205       u            g             aa         v   \n",
      "689      b  35.00   3.375       u            g              c         h   \n",
      "\n",
      "     YearsEmployed PriorDefault Employed  CreditScore DriversLicense Citizen  \\\n",
      "673          2.000            f        f            0              f       g   \n",
      "674          0.210            f        f            0              f       g   \n",
      "675          0.665            f        f            0              f       g   \n",
      "676          0.085            f        t           12              t       g   \n",
      "677          0.040            f        t            1              f       g   \n",
      "678          0.000            f        f            0              f       g   \n",
      "679          0.000            f        f            0              f       g   \n",
      "680          0.290            f        f            0              f       g   \n",
      "681          3.000            f        f            0              f       g   \n",
      "682          0.335            f        f            0              t       g   \n",
      "683          0.585            f        f            0              f       g   \n",
      "684          3.500            f        f            0              t       s   \n",
      "685          1.250            f        f            0              f       g   \n",
      "686          2.000            f        t            2              t       g   \n",
      "687          2.000            f        t            1              t       g   \n",
      "688          0.040            f        f            0              f       g   \n",
      "689          8.290            f        f            0              t       g   \n",
      "\n",
      "    ZipCode  Income Approved  \n",
      "673   00256      17        -  \n",
      "674   00260     246        -  \n",
      "675   00240     237        -  \n",
      "676   00129       3        -  \n",
      "677   00100       1        -  \n",
      "678   00000      50        -  \n",
      "679   00000       0        -  \n",
      "680   00280     364        -  \n",
      "681   00176     537        -  \n",
      "682   00140       2        -  \n",
      "683   00240       3        -  \n",
      "684   00400       0        -  \n",
      "685   00260       0        -  \n",
      "686   00200     394        -  \n",
      "687   00200       1        -  \n",
      "688   00280     750        -  \n",
      "689   00000       0        -  \n"
     ]
    }
   ],
   "source": [
    "print(train.tail(17))"
   ]
  },
  {
   "cell_type": "code",
   "execution_count": 12,
   "metadata": {},
   "outputs": [],
   "source": [
    "train=train.replace('?',np.NaN)"
   ]
  },
  {
   "cell_type": "code",
   "execution_count": 13,
   "metadata": {},
   "outputs": [
    {
     "name": "stdout",
     "output_type": "stream",
     "text": [
      "    Gender    Age    Debt Married BankCustomer EducationLevel Ethnicity  \\\n",
      "673    NaN  29.50   2.000       y            p              e         h   \n",
      "674      a  37.33   2.500       u            g              i         h   \n",
      "675      a  41.58   1.040       u            g             aa         v   \n",
      "676      a  30.58  10.665       u            g              q         h   \n",
      "677      b  19.42   7.250       u            g              m         v   \n",
      "678      a  17.92  10.210       u            g             ff        ff   \n",
      "679      a  20.08   1.250       u            g              c         v   \n",
      "680      b  19.50   0.290       u            g              k         v   \n",
      "681      b  27.83   1.000       y            p              d         h   \n",
      "682      b  17.08   3.290       u            g              i         v   \n",
      "683      b  36.42   0.750       y            p              d         v   \n",
      "684      b  40.58   3.290       u            g              m         v   \n",
      "685      b  21.08  10.085       y            p              e         h   \n",
      "686      a  22.67   0.750       u            g              c         v   \n",
      "687      a  25.25  13.500       y            p             ff        ff   \n",
      "688      b  17.92   0.205       u            g             aa         v   \n",
      "689      b  35.00   3.375       u            g              c         h   \n",
      "\n",
      "     YearsEmployed PriorDefault Employed  CreditScore DriversLicense Citizen  \\\n",
      "673          2.000            f        f            0              f       g   \n",
      "674          0.210            f        f            0              f       g   \n",
      "675          0.665            f        f            0              f       g   \n",
      "676          0.085            f        t           12              t       g   \n",
      "677          0.040            f        t            1              f       g   \n",
      "678          0.000            f        f            0              f       g   \n",
      "679          0.000            f        f            0              f       g   \n",
      "680          0.290            f        f            0              f       g   \n",
      "681          3.000            f        f            0              f       g   \n",
      "682          0.335            f        f            0              t       g   \n",
      "683          0.585            f        f            0              f       g   \n",
      "684          3.500            f        f            0              t       s   \n",
      "685          1.250            f        f            0              f       g   \n",
      "686          2.000            f        t            2              t       g   \n",
      "687          2.000            f        t            1              t       g   \n",
      "688          0.040            f        f            0              f       g   \n",
      "689          8.290            f        f            0              t       g   \n",
      "\n",
      "    ZipCode  Income Approved  \n",
      "673   00256      17        -  \n",
      "674   00260     246        -  \n",
      "675   00240     237        -  \n",
      "676   00129       3        -  \n",
      "677   00100       1        -  \n",
      "678   00000      50        -  \n",
      "679   00000       0        -  \n",
      "680   00280     364        -  \n",
      "681   00176     537        -  \n",
      "682   00140       2        -  \n",
      "683   00240       3        -  \n",
      "684   00400       0        -  \n",
      "685   00260       0        -  \n",
      "686   00200     394        -  \n",
      "687   00200       1        -  \n",
      "688   00280     750        -  \n",
      "689   00000       0        -  \n"
     ]
    }
   ],
   "source": [
    "print(train.tail(17))"
   ]
  },
  {
   "cell_type": "code",
   "execution_count": 14,
   "metadata": {},
   "outputs": [
    {
     "name": "stdout",
     "output_type": "stream",
     "text": [
      "67\n"
     ]
    }
   ],
   "source": [
    "print(train.isnull().values.sum())"
   ]
  },
  {
   "cell_type": "code",
   "execution_count": 30,
   "metadata": {},
   "outputs": [
    {
     "name": "stdout",
     "output_type": "stream",
     "text": [
      "Gender            0\n",
      "Age               0\n",
      "Debt              0\n",
      "Married           0\n",
      "BankCustomer      0\n",
      "EducationLevel    0\n",
      "Ethnicity         0\n",
      "YearsEmployed     0\n",
      "PriorDefault      0\n",
      "Employed          0\n",
      "CreditScore       0\n",
      "DriversLicense    0\n",
      "Citizen           0\n",
      "Income            0\n",
      "Approved          0\n",
      "dtype: int64\n",
      "0\n"
     ]
    }
   ],
   "source": [
    "train.fillna(train.mean(),inplace=True)\n",
    "print(train.isnull().sum())\n",
    "print(train.isnull().values.sum())\n",
    "X = train.drop('Approved', axis=1)\n",
    "Y = train['Approved']\n"
   ]
  },
  {
   "cell_type": "code",
   "execution_count": 31,
   "metadata": {},
   "outputs": [
    {
     "name": "stdout",
     "output_type": "stream",
     "text": [
      "Gender            0\n",
      "Age               0\n",
      "Debt              0\n",
      "Married           0\n",
      "BankCustomer      0\n",
      "EducationLevel    0\n",
      "Ethnicity         0\n",
      "YearsEmployed     0\n",
      "PriorDefault      0\n",
      "Employed          0\n",
      "CreditScore       0\n",
      "DriversLicense    0\n",
      "Citizen           0\n",
      "Income            0\n",
      "Approved          0\n",
      "dtype: int64\n"
     ]
    }
   ],
   "source": [
    "for col in train:\n",
    "  if train[col].dtypes=='object':\n",
    "        train=train.fillna(train[col].value_counts().index[0])\n",
    "        \n",
    "print(train.isnull().sum())        "
   ]
  },
  {
   "cell_type": "code",
   "execution_count": 19,
   "metadata": {},
   "outputs": [
    {
     "name": "stdout",
     "output_type": "stream",
     "text": [
      "     Gender  Age    Debt  Married  BankCustomer  EducationLevel  Ethnicity  \\\n",
      "685       1   52  10.085        3             3               5          4   \n",
      "686       0   71   0.750        2             1               2          8   \n",
      "687       0   97  13.500        3             3               6          3   \n",
      "688       1   20   0.205        2             1               0          8   \n",
      "689       1  197   3.375        2             1               2          4   \n",
      "\n",
      "     YearsEmployed  PriorDefault  Employed  CreditScore  DriversLicense  \\\n",
      "685           1.25             0         0            0               0   \n",
      "686           2.00             0         1            2               1   \n",
      "687           2.00             0         1            1               1   \n",
      "688           0.04             0         0            0               0   \n",
      "689           8.29             0         0            0               1   \n",
      "\n",
      "     Citizen  Income  Approved  \n",
      "685        0       0         1  \n",
      "686        0     394         1  \n",
      "687        0       1         1  \n",
      "688        0     750         1  \n",
      "689        0       0         1  \n"
     ]
    }
   ],
   "source": [
    "from sklearn.preprocessing import LabelEncoder\n",
    "label_enc  = LabelEncoder()\n",
    "for col in train:\n",
    "  if train[col].dtypes=='object':\n",
    "        train[col]=label_enc.fit_transform(train[col])\n",
    "print(train.tail())"
   ]
  },
  {
   "cell_type": "code",
   "execution_count": 33,
   "metadata": {},
   "outputs": [],
   "source": [
    "X_train, X_test, Y_train, Y_test = train_test_split (X,Y,test_size=0.3,random_state=42)"
   ]
  },
  {
   "cell_type": "code",
   "execution_count": 34,
   "metadata": {},
   "outputs": [
    {
     "name": "stdout",
     "output_type": "stream",
     "text": [
      "(483, 14)\n",
      "(483,)\n",
      "(207, 14)\n",
      "(207,)\n"
     ]
    }
   ],
   "source": [
    "X_train, X_test, Y_train, Y_test = train_test_split (X,Y,test_size=0.3)\n",
    "print(X_train.shape)\n",
    "print(Y_train.shape)\n",
    "print(X_test.shape)\n",
    "print(Y_test.shape)"
   ]
  },
  {
   "cell_type": "code",
   "execution_count": 35,
   "metadata": {},
   "outputs": [
    {
     "name": "stderr",
     "output_type": "stream",
     "text": [
      "/srv/conda/envs/notebook/lib/python3.7/site-packages/sklearn/linear_model/logistic.py:432: FutureWarning: Default solver will be changed to 'lbfgs' in 0.22. Specify a solver to silence this warning.\n",
      "  FutureWarning)\n"
     ]
    },
    {
     "data": {
      "text/plain": [
       "LogisticRegression(C=1.0, class_weight=None, dual=False, fit_intercept=True,\n",
       "                   intercept_scaling=1, l1_ratio=None, max_iter=100,\n",
       "                   multi_class='warn', n_jobs=None, penalty='l2',\n",
       "                   random_state=None, solver='warn', tol=0.0001, verbose=0,\n",
       "                   warm_start=False)"
      ]
     },
     "execution_count": 35,
     "metadata": {},
     "output_type": "execute_result"
    }
   ],
   "source": [
    "logreg = LogisticRegression()\n",
    "logreg.fit(X_train,Y_train)"
   ]
  },
  {
   "cell_type": "code",
   "execution_count": 36,
   "metadata": {},
   "outputs": [],
   "source": [
    "Y_pred = logreg.predict(X_test)"
   ]
  },
  {
   "cell_type": "code",
   "execution_count": 37,
   "metadata": {},
   "outputs": [
    {
     "name": "stdout",
     "output_type": "stream",
     "text": [
      "[1 1 0 1 0 0 1 0 1 0 0 0 0 1 0 1 0 1 1 0 1 0 1 0 0 0 1 1 1 1 1 1 0 0 0 1 1\n",
      " 0 0 0 0 0 0 0 1 0 1 1 1 1 0 1 0 1 0 0 0 1 0 0 1 1 1 0 1 1 0 1 0 0 1 0 1 0\n",
      " 1 0 1 1 1 0 0 0 0 1 0 1 1 0 0 0 0 0 1 1 0 0 1 0 1 1 1 0 0 0 0 1 1 0 1 0 0\n",
      " 1 1 1 1 0 0 0 0 0 1 0 1 1 1 1 1 1 0 1 0 1 0 0 0 1 0 1 0 1 1 1 0 1 1 0 1 1\n",
      " 0 1 1 0 1 1 1 0 0 0 0 1 1 1 0 1 0 1 0 0 1 1 0 0 0 0 0 0 0 0 0 1 1 1 1 1 0\n",
      " 1 1 0 1 0 1 0 1 1 1 1 1 1 1 1 1 1 0 1 1 1 1]\n"
     ]
    }
   ],
   "source": [
    "print(Y_pred)"
   ]
  },
  {
   "cell_type": "code",
   "execution_count": 38,
   "metadata": {},
   "outputs": [],
   "source": [
    "scoreLR = accuracy_score(Y_test,Y_pred)"
   ]
  },
  {
   "cell_type": "code",
   "execution_count": 39,
   "metadata": {},
   "outputs": [
    {
     "name": "stdout",
     "output_type": "stream",
     "text": [
      "Score =89.3719806763285%\n"
     ]
    }
   ],
   "source": [
    "print(\"Score =\"+str(scoreLR*100)+\"%\")"
   ]
  },
  {
   "cell_type": "code",
   "execution_count": 40,
   "metadata": {},
   "outputs": [
    {
     "name": "stdout",
     "output_type": "stream",
     "text": [
      "Accuracy Score : 89.3719806763285%\n"
     ]
    },
    {
     "name": "stderr",
     "output_type": "stream",
     "text": [
      "/srv/conda/envs/notebook/lib/python3.7/site-packages/sklearn/svm/base.py:193: FutureWarning: The default value of gamma will change from 'auto' to 'scale' in version 0.22 to account better for unscaled features. Set gamma explicitly to 'auto' or 'scale' to avoid this warning.\n",
      "  \"avoid this warning.\", FutureWarning)\n"
     ]
    }
   ],
   "source": [
    "svc= SVC()\n",
    "svc.fit(X_train,Y_train)\n",
    "Y_pred= svc.predict(X_test)\n",
    "\n",
    "scoreSVC = accuracy_score(Y_test,Y_pred)\n",
    "print(\"Accuracy Score : \"+str(scoreLR*100)+\"%\")"
   ]
  },
  {
   "cell_type": "code",
   "execution_count": 41,
   "metadata": {},
   "outputs": [
    {
     "name": "stdout",
     "output_type": "stream",
     "text": [
      "Accuracy score: 71.98067632850241%\n"
     ]
    }
   ],
   "source": [
    "knn = KNeighborsClassifier(n_neighbors = 3)\n",
    "knn.fit(X_train, Y_train)\n",
    "Y_pred = knn.predict(X_test)\n",
    "\n",
    "scoreKNN = accuracy_score(Y_test, Y_pred)\n",
    "print(\"Accuracy score: \" + str(scoreKNN * 100) + \"%\")"
   ]
  },
  {
   "cell_type": "code",
   "execution_count": 42,
   "metadata": {},
   "outputs": [
    {
     "name": "stdout",
     "output_type": "stream",
     "text": [
      "Accuracy score: 79.71014492753623%\n"
     ]
    }
   ],
   "source": [
    "gaussian = GaussianNB()\n",
    "gaussian.fit(X_train, Y_train)\n",
    "Y_pred = gaussian.predict(X_test)\n",
    "\n",
    "scoreGNB = accuracy_score(Y_test, Y_pred)\n",
    "print(\"Accuracy score: \" + str(scoreGNB * 100) + \"%\")"
   ]
  },
  {
   "cell_type": "code",
   "execution_count": 43,
   "metadata": {},
   "outputs": [
    {
     "name": "stdout",
     "output_type": "stream",
     "text": [
      "Accuracy score: 54.589371980676326%\n"
     ]
    }
   ],
   "source": [
    "sgd = SGDClassifier()\n",
    "sgd.fit(X_train, Y_train)\n",
    "Y_pred = sgd.predict(X_test)\n",
    "\n",
    "scoreSGD = accuracy_score(Y_test, Y_pred)\n",
    "print(\"Accuracy score: \" + str(scoreSGD * 100) + \"%\")"
   ]
  },
  {
   "cell_type": "code",
   "execution_count": 44,
   "metadata": {},
   "outputs": [
    {
     "name": "stdout",
     "output_type": "stream",
     "text": [
      "Accuracy score: 85.5072463768116%\n"
     ]
    }
   ],
   "source": [
    "decision_tree = DecisionTreeClassifier()\n",
    "decision_tree.fit(X_train, Y_train)\n",
    "Y_pred = decision_tree.predict(X_test)\n",
    "\n",
    "scoreDT = accuracy_score(Y_test, Y_pred)\n",
    "print(\"Accuracy score: \" + str(scoreDT * 100) + \"%\")"
   ]
  },
  {
   "cell_type": "code",
   "execution_count": 45,
   "metadata": {},
   "outputs": [
    {
     "name": "stdout",
     "output_type": "stream",
     "text": [
      "Accuracy score: 87.43961352657004%\n"
     ]
    }
   ],
   "source": [
    "random_forest = RandomForestClassifier(n_estimators=100)\n",
    "random_forest.fit(X_train, Y_train)\n",
    "Y_pred = random_forest.predict(X_test)\n",
    "\n",
    "scoreRF = accuracy_score(Y_test, Y_pred)\n",
    "print(\"Accuracy score: \" + str(scoreRF * 100) + \"%\")\n"
   ]
  },
  {
   "cell_type": "code",
   "execution_count": 46,
   "metadata": {},
   "outputs": [
    {
     "data": {
      "text/html": [
       "<div>\n",
       "<style scoped>\n",
       "    .dataframe tbody tr th:only-of-type {\n",
       "        vertical-align: middle;\n",
       "    }\n",
       "\n",
       "    .dataframe tbody tr th {\n",
       "        vertical-align: top;\n",
       "    }\n",
       "\n",
       "    .dataframe thead th {\n",
       "        text-align: right;\n",
       "    }\n",
       "</style>\n",
       "<table border=\"1\" class=\"dataframe\">\n",
       "  <thead>\n",
       "    <tr style=\"text-align: right;\">\n",
       "      <th></th>\n",
       "      <th>Model</th>\n",
       "      <th>Score</th>\n",
       "    </tr>\n",
       "  </thead>\n",
       "  <tbody>\n",
       "    <tr>\n",
       "      <th>2</th>\n",
       "      <td>Logistic Regression</td>\n",
       "      <td>0.893720</td>\n",
       "    </tr>\n",
       "    <tr>\n",
       "      <th>3</th>\n",
       "      <td>Random Forest</td>\n",
       "      <td>0.874396</td>\n",
       "    </tr>\n",
       "    <tr>\n",
       "      <th>6</th>\n",
       "      <td>Decision Tree</td>\n",
       "      <td>0.855072</td>\n",
       "    </tr>\n",
       "    <tr>\n",
       "      <th>4</th>\n",
       "      <td>Naive Bayes</td>\n",
       "      <td>0.797101</td>\n",
       "    </tr>\n",
       "    <tr>\n",
       "      <th>1</th>\n",
       "      <td>KNN</td>\n",
       "      <td>0.719807</td>\n",
       "    </tr>\n",
       "    <tr>\n",
       "      <th>5</th>\n",
       "      <td>Stochastic Gradient Decent</td>\n",
       "      <td>0.545894</td>\n",
       "    </tr>\n",
       "    <tr>\n",
       "      <th>0</th>\n",
       "      <td>Support Vector Machines</td>\n",
       "      <td>0.516908</td>\n",
       "    </tr>\n",
       "  </tbody>\n",
       "</table>\n",
       "</div>"
      ],
      "text/plain": [
       "                        Model     Score\n",
       "2         Logistic Regression  0.893720\n",
       "3               Random Forest  0.874396\n",
       "6               Decision Tree  0.855072\n",
       "4                 Naive Bayes  0.797101\n",
       "1                         KNN  0.719807\n",
       "5  Stochastic Gradient Decent  0.545894\n",
       "0     Support Vector Machines  0.516908"
      ]
     },
     "execution_count": 46,
     "metadata": {},
     "output_type": "execute_result"
    }
   ],
   "source": [
    "models = pd.DataFrame({\n",
    "    'Model': ['Support Vector Machines', 'KNN', 'Logistic Regression', \n",
    "              'Random Forest', 'Naive Bayes', 'Stochastic Gradient Decent', 'Decision Tree'],\n",
    "    'Score': [scoreSVC, scoreKNN, scoreLR, \n",
    "              scoreRF, scoreGNB, scoreSGD, scoreDT]})\n",
    "\n",
    "\n",
    "models.sort_values(by='Score', ascending=False)"
   ]
  },
  {
   "cell_type": "code",
   "execution_count": null,
   "metadata": {},
   "outputs": [],
   "source": []
  },
  {
   "cell_type": "code",
   "execution_count": null,
   "metadata": {},
   "outputs": [],
   "source": []
  }
 ],
 "metadata": {
  "kernelspec": {
   "display_name": "Python 3",
   "language": "python",
   "name": "python3"
  },
  "language_info": {
   "codemirror_mode": {
    "name": "ipython",
    "version": 3
   },
   "file_extension": ".py",
   "mimetype": "text/x-python",
   "name": "python",
   "nbconvert_exporter": "python",
   "pygments_lexer": "ipython3",
   "version": "3.7.6"
  }
 },
 "nbformat": 4,
 "nbformat_minor": 4
}
